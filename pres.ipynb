{
 "cells": [
  {
   "cell_type": "markdown",
   "metadata": {
    "slideshow": {
     "slide_type": "skip"
    },
    "toc": true
   },
   "source": [
    "<h1>Содержание<span class=\"tocSkip\"></span></h1>\n",
    "<div class=\"toc\"><ul class=\"toc-item\"><li><span><a href=\"#Состав-команды\" data-toc-modified-id=\"Состав-команды-1\"><span class=\"toc-item-num\">1&nbsp;&nbsp;</span>Состав команды</a></span></li><li><span><a href=\"#Пункт-0:-Составим-план-действий\" data-toc-modified-id=\"Пункт-0:-Составим-план-действий-2\"><span class=\"toc-item-num\">2&nbsp;&nbsp;</span>Пункт 0: Составим план действий</a></span></li><li><span><a href=\"#Импортируем--класс-с-решением\" data-toc-modified-id=\"Импортируем--класс-с-решением-3\"><span class=\"toc-item-num\">3&nbsp;&nbsp;</span>Импортируем  класс с решением</a></span></li><li><span><a href=\"#Инициализируем-объект-класса-со-следующими-параметрами:\" data-toc-modified-id=\"Инициализируем-объект-класса-со-следующими-параметрами:-4\"><span class=\"toc-item-num\">4&nbsp;&nbsp;</span>Инициализируем объект класса со следующими параметрами:</a></span></li><li><span><a href=\"#Пункт-1:-Обоснование-выбора-активов\" data-toc-modified-id=\"Пункт-1:-Обоснование-выбора-активов-5\"><span class=\"toc-item-num\">5&nbsp;&nbsp;</span>Пункт 1: Обоснование выбора активов</a></span><ul class=\"toc-item\"><li><span><a href=\"#TSM\" data-toc-modified-id=\"TSM-5.1\"><span class=\"toc-item-num\">5.1&nbsp;&nbsp;</span>TSM</a></span></li><li><span><a href=\"#AMD\" data-toc-modified-id=\"AMD-5.2\"><span class=\"toc-item-num\">5.2&nbsp;&nbsp;</span>AMD</a></span></li><li><span><a href=\"#YNDX\" data-toc-modified-id=\"YNDX-5.3\"><span class=\"toc-item-num\">5.3&nbsp;&nbsp;</span>YNDX</a></span></li><li><span><a href=\"#FDX\" data-toc-modified-id=\"FDX-5.4\"><span class=\"toc-item-num\">5.4&nbsp;&nbsp;</span>FDX</a></span></li><li><span><a href=\"#NFLX\" data-toc-modified-id=\"NFLX-5.5\"><span class=\"toc-item-num\">5.5&nbsp;&nbsp;</span>NFLX</a></span></li><li><span><a href=\"#FIVEDR\" data-toc-modified-id=\"FIVEDR-5.6\"><span class=\"toc-item-num\">5.6&nbsp;&nbsp;</span>FIVEDR</a></span></li><li><span><a href=\"#GOOGL\" data-toc-modified-id=\"GOOGL-5.7\"><span class=\"toc-item-num\">5.7&nbsp;&nbsp;</span>GOOGL</a></span></li><li><span><a href=\"#MU\" data-toc-modified-id=\"MU-5.8\"><span class=\"toc-item-num\">5.8&nbsp;&nbsp;</span>MU</a></span></li><li><span><a href=\"#ALRS\" data-toc-modified-id=\"ALRS-5.9\"><span class=\"toc-item-num\">5.9&nbsp;&nbsp;</span>ALRS</a></span></li><li><span><a href=\"#NVDA\" data-toc-modified-id=\"NVDA-5.10\"><span class=\"toc-item-num\">5.10&nbsp;&nbsp;</span>NVDA</a></span></li></ul></li><li><span><a href=\"#Пункт-2:-Обоснование-применимости-подходов-к-статистической-оценке-атрибутов-портфеля-и-активов\" data-toc-modified-id=\"Пункт-2:-Обоснование-применимости-подходов-к-статистической-оценке-атрибутов-портфеля-и-активов-6\"><span class=\"toc-item-num\">6&nbsp;&nbsp;</span>Пункт 2: Обоснование применимости подходов к статистической оценке атрибутов портфеля и активов</a></span><ul class=\"toc-item\"><li><span><a href=\"#Список-атрибутов,-которые-были-оценены-или-получены-в-нашей-работе,-на-основании-выборочных-данных\" data-toc-modified-id=\"Список-атрибутов,-которые-были-оценены-или-получены-в-нашей-работе,-на-основании-выборочных-данных-6.1\"><span class=\"toc-item-num\">6.1&nbsp;&nbsp;</span>Список атрибутов, которые были оценены или получены в нашей работе, на основании выборочных данных</a></span></li><li><span><a href=\"#Точечные-оценки\" data-toc-modified-id=\"Точечные-оценки-6.2\"><span class=\"toc-item-num\">6.2&nbsp;&nbsp;</span>Точечные оценки</a></span></li><li><span><a href=\"#Интервальные-оценки\" data-toc-modified-id=\"Интервальные-оценки-6.3\"><span class=\"toc-item-num\">6.3&nbsp;&nbsp;</span>Интервальные оценки</a></span><ul class=\"toc-item\"><li><ul class=\"toc-item\"><li><span><a href=\"#Для-интервальной-оценки-атрибутов-необходимо-убедиться-в-том,-что-выборки-пришли-к-нам-из-нормального-распределения\" data-toc-modified-id=\"Для-интервальной-оценки-атрибутов-необходимо-убедиться-в-том,-что-выборки-пришли-к-нам-из-нормального-распределения-6.3.0.1\"><span class=\"toc-item-num\">6.3.0.1&nbsp;&nbsp;</span>Для интервальной оценки атрибутов необходимо убедиться в том, что выборки пришли к нам из нормального распределения</a></span></li></ul></li></ul></li><li><span><a href=\"#Для-того-что-бы-убедиться,-что-выборка-пришла-к-нам-из-нормального-распределения-воспользуемся-проверкой-гипотезы-о-нормальном-распределении-по-критерию-Пирсона\" data-toc-modified-id=\"Для-того-что-бы-убедиться,-что-выборка-пришла-к-нам-из-нормального-распределения-воспользуемся-проверкой-гипотезы-о-нормальном-распределении-по-критерию-Пирсона-6.4\"><span class=\"toc-item-num\">6.4&nbsp;&nbsp;</span>Для того что бы убедиться, что выборка пришла к нам из нормального распределения воспользуемся проверкой гипотезы о нормальном распределении по критерию Пирсона</a></span></li><li><span><a href=\"#Посмотрим,-результаты-работы-данного-метода\" data-toc-modified-id=\"Посмотрим,-результаты-работы-данного-метода-6.5\"><span class=\"toc-item-num\">6.5&nbsp;&nbsp;</span>Посмотрим, результаты работы данного метода</a></span></li><li><span><a href=\"#Теперь-вернемся-к-оценкам-параметров\" data-toc-modified-id=\"Теперь-вернемся-к-оценкам-параметров-6.6\"><span class=\"toc-item-num\">6.6&nbsp;&nbsp;</span>Теперь вернемся к оценкам параметров</a></span><ul class=\"toc-item\"><li><span><a href=\"#Точечные-оценки\" data-toc-modified-id=\"Точечные-оценки-6.6.1\"><span class=\"toc-item-num\">6.6.1&nbsp;&nbsp;</span>Точечные оценки</a></span></li><li><span><a href=\"#Интервальные-оценки\" data-toc-modified-id=\"Интервальные-оценки-6.6.2\"><span class=\"toc-item-num\">6.6.2&nbsp;&nbsp;</span>Интервальные оценки</a></span><ul class=\"toc-item\"><li><span><a href=\"#Рассмотрим-теоретическую-составляющую-интервальной-оценки-стандартного-отклонения\" data-toc-modified-id=\"Рассмотрим-теоретическую-составляющую-интервальной-оценки-стандартного-отклонения-6.6.2.1\"><span class=\"toc-item-num\">6.6.2.1&nbsp;&nbsp;</span>Рассмотрим теоретическую составляющую интервальной оценки стандартного отклонения</a></span></li></ul></li><li><span><a href=\"#-Рассмотрим-теоретическую-составляющую-интервальной-оценки-математического-ожидания\" data-toc-modified-id=\"-Рассмотрим-теоретическую-составляющую-интервальной-оценки-математического-ожидания-6.6.3\"><span class=\"toc-item-num\">6.6.3&nbsp;&nbsp;</span> Рассмотрим теоретическую составляющую интервальной оценки математического ожидания</a></span></li></ul></li><li><span><a href=\"#Обработка-матрицы-ковариации\" data-toc-modified-id=\"Обработка-матрицы-ковариации-6.7\"><span class=\"toc-item-num\">6.7&nbsp;&nbsp;</span>Обработка матрицы ковариации</a></span><ul class=\"toc-item\"><li><span><a href=\"#Посмотрим,-как-это-было-реализовано-в-коде\" data-toc-modified-id=\"Посмотрим,-как-это-было-реализовано-в-коде-6.7.1\"><span class=\"toc-item-num\">6.7.1&nbsp;&nbsp;</span>Посмотрим, как это было реализовано в коде</a></span><ul class=\"toc-item\"><li><span><a href=\"#Пример-результата-работы-данного-метода\" data-toc-modified-id=\"Пример-результата-работы-данного-метода-6.7.1.1\"><span class=\"toc-item-num\">6.7.1.1&nbsp;&nbsp;</span>Пример результата работы данного метода</a></span></li></ul></li><li><span><a href=\"#После-этого-мы-форматируем-матрицу-ковариации-согласно-найденной-выше-матрицы\" data-toc-modified-id=\"После-этого-мы-форматируем-матрицу-ковариации-согласно-найденной-выше-матрицы-6.7.2\"><span class=\"toc-item-num\">6.7.2&nbsp;&nbsp;</span>После этого мы форматируем матрицу ковариации согласно найденной выше матрицы</a></span></li></ul></li><li><span><a href=\"#На-этом-с-подготовка-данных-заканчивается-и-мы-переходим-к-самому-главному,-задаче-Тобина\" data-toc-modified-id=\"На-этом-с-подготовка-данных-заканчивается-и-мы-переходим-к-самому-главному,-задаче-Тобина-6.8\"><span class=\"toc-item-num\">6.8&nbsp;&nbsp;</span>На этом с подготовка данных заканчивается и мы переходим к самому главному, задаче Тобина</a></span><ul class=\"toc-item\"><li><span><a href=\"#Теперь,-когда-мы-вывели-итоговую-формулу,-можно-реализовать-метод-на-ее-основе\" data-toc-modified-id=\"Теперь,-когда-мы-вывели-итоговую-формулу,-можно-реализовать-метод-на-ее-основе-6.8.1\"><span class=\"toc-item-num\">6.8.1&nbsp;&nbsp;</span>Теперь, когда мы вывели итоговую формулу, можно реализовать метод на ее основе</a></span></li></ul></li></ul></li><li><span><a href=\"#Пункт-3:-Составим-портфель\" data-toc-modified-id=\"Пункт-3:-Составим-портфель-7\"><span class=\"toc-item-num\">7&nbsp;&nbsp;</span>Пункт 3: Составим портфель</a></span><ul class=\"toc-item\"><li><span><a href=\"#Проведем-первый-пересмотр-портфеля\" data-toc-modified-id=\"Проведем-первый-пересмотр-портфеля-7.1\"><span class=\"toc-item-num\">7.1&nbsp;&nbsp;</span>Проведем первый пересмотр портфеля</a></span></li><li><span><a href=\"#Проведем-второй-пересмотр-портфеля\" data-toc-modified-id=\"Проведем-второй-пересмотр-портфеля-7.2\"><span class=\"toc-item-num\">7.2&nbsp;&nbsp;</span>Проведем второй пересмотр портфеля</a></span></li></ul></li><li><span><a href=\"#Пункт-4:-Разберем-каждый-подпункт-плана-отдельно-с-кодом\" data-toc-modified-id=\"Пункт-4:-Разберем-каждый-подпункт-плана-отдельно-с-кодом-8\"><span class=\"toc-item-num\">8&nbsp;&nbsp;</span>Пункт 4: Разберем каждый подпункт плана отдельно с кодом</a></span><ul class=\"toc-item\"><li><span><a href=\"#Получить-котировки-акций\" data-toc-modified-id=\"Получить-котировки-акций-8.1\"><span class=\"toc-item-num\">8.1&nbsp;&nbsp;</span>Получить котировки акций</a></span></li><li><span><a href=\"#Объединить-все-цены-в-одну-таблицу-по-дате-закрытия\" data-toc-modified-id=\"Объединить-все-цены-в-одну-таблицу-по-дате-закрытия-8.2\"><span class=\"toc-item-num\">8.2&nbsp;&nbsp;</span>Объединить все цены в одну таблицу по дате закрытия</a></span></li><li><span><a href=\"#Если-передан-специальный-флаг,-рассчитать-доходность-активов\" data-toc-modified-id=\"Если-передан-специальный-флаг,-рассчитать-доходность-активов-8.3\"><span class=\"toc-item-num\">8.3&nbsp;&nbsp;</span>Если передан специальный флаг, рассчитать доходность активов</a></span></li><li><span><a href=\"#Вычислить-еженедельную-доходность\" data-toc-modified-id=\"Вычислить-еженедельную-доходность-8.4\"><span class=\"toc-item-num\">8.4&nbsp;&nbsp;</span>Вычислить еженедельную доходность</a></span></li></ul></li><li><span><a href=\"#Проверить-гипотезу-о-нормальном-распределении\" data-toc-modified-id=\"Проверить-гипотезу-о-нормальном-распределении-9\"><span class=\"toc-item-num\">9&nbsp;&nbsp;</span>Проверить гипотезу о нормальном распределении</a></span></li><li><span><a href=\"#Вычислить-интервальные-оценки-параметров\" data-toc-modified-id=\"Вычислить-интервальные-оценки-параметров-10\"><span class=\"toc-item-num\">10&nbsp;&nbsp;</span>Вычислить интервальные оценки параметров</a></span></li><li><span><a href=\"#Проверить-гипотезу-о-равенстве-коэффициента-корреляции-0\" data-toc-modified-id=\"Проверить-гипотезу-о-равенстве-коэффициента-корреляции-0-11\"><span class=\"toc-item-num\">11&nbsp;&nbsp;</span>Проверить гипотезу о равенстве коэффициента корреляции 0</a></span></li><li><span><a href=\"#Трансформировать-матрицу-ковариации-согласно-результатам-проверки-гипотезы\" data-toc-modified-id=\"Трансформировать-матрицу-ковариации-согласно-результатам-проверки-гипотезы-12\"><span class=\"toc-item-num\">12&nbsp;&nbsp;</span>Трансформировать матрицу ковариации согласно результатам проверки гипотезы</a></span></li><li><span><a href=\"#Решить-задачу-Тобина-и-получить-оптимальный-портфель\" data-toc-modified-id=\"Решить-задачу-Тобина-и-получить-оптимальный-портфель-13\"><span class=\"toc-item-num\">13&nbsp;&nbsp;</span>Решить задачу Тобина и получить оптимальный портфель</a></span></li></ul></div>"
   ]
  },
  {
   "cell_type": "markdown",
   "metadata": {
    "slideshow": {
     "slide_type": "skip"
    }
   },
   "source": [
    "<script src=\"plugin/math/math.js\"></script>\n",
    "<script>\n",
    "  Reveal.initialize({\n",
    "    math: {\n",
    "      mathjax: 'https://cdn.jsdelivr.net/gh/mathjax/mathjax@2.7.8/MathJax.js',\n",
    "      config: 'TeX-AMS_HTML-full',\n",
    "      // pass other options into `MathJax.Hub.Config()`\n",
    "      TeX: { Macros: { RR: \"{\\\\bf R}\" } }\n",
    "    },\n",
    "    plugins: [ RevealMath ]\n",
    "  });\n",
    "</script>\n"
   ]
  },
  {
   "cell_type": "code",
   "execution_count": 1,
   "metadata": {
    "slideshow": {
     "slide_type": "skip"
    }
   },
   "outputs": [],
   "source": [
    "# from IPython.core.display import display, HTML\n",
    "# display(HTML(\"<style>.container { width:60% !important; }</style>\"))"
   ]
  },
  {
   "cell_type": "markdown",
   "metadata": {
    "slideshow": {
     "slide_type": "slide"
    }
   },
   "source": [
    "## Состав команды\n",
    "\n",
    "- Антон Сметанин \n",
    "- Максим Холодилин\n",
    "- Илья Сагамонов\n",
    "- Даниил Хроменков\n",
    "- Дмитрий Арефьев\n"
   ]
  },
  {
   "cell_type": "markdown",
   "metadata": {
    "slideshow": {
     "slide_type": "slide"
    }
   },
   "source": [
    "## Пункт 0: Составим план действий \n",
    "1. Получить котировки акций\n",
    "1. Объединить все цены в одну таблицу по дате закрытия\n",
    "1. Вычислить еженедельную доходность\n",
    "1. Проверить гипотезу о нормальном распределении\n",
    "1. Вычислить интервальные оценки параметров\n",
    "1. Проверить гипотезу о равенстве коэффициента корреляции 0\n",
    "1. Трансформировать матрицу ковариации согласно результатам проверки гипотезы\n",
    "1. Решить задачу Тобина и получить оптимальный портфель"
   ]
  },
  {
   "cell_type": "markdown",
   "metadata": {
    "slideshow": {
     "slide_type": "slide"
    }
   },
   "source": [
    "## Импортируем  класс с решением "
   ]
  },
  {
   "cell_type": "code",
   "execution_count": 2,
   "metadata": {
    "slideshow": {
     "slide_type": "subslide"
    }
   },
   "outputs": [],
   "source": [
    "%run Tobin_portfolio.ipynb"
   ]
  },
  {
   "cell_type": "markdown",
   "metadata": {
    "slideshow": {
     "slide_type": "subslide"
    }
   },
   "source": [
    "## Инициализируем объект класса со следующими параметрами:\n",
    "- Директория со стартовыми данными: ./data\n",
    "- Ожидаемая доходность портфеля: 40%\n",
    "- Доходность безрискового актива: 3,04%\n",
    "- Очитка выбросов отключена\n",
    "- Стартовый капитал: 1 000 000 рублей\n",
    "- Уровень значимости для гипотезы о нормальном распределении: 0.01\n",
    "- Уровень значимости для доверительных интервалов: 0.95"
   ]
  },
  {
   "cell_type": "code",
   "execution_count": 3,
   "metadata": {
    "slideshow": {
     "slide_type": "subslide"
    }
   },
   "outputs": [],
   "source": [
    "start_portfolio = Get_investment_portfolio(\"./data\",portfolio_income=40,\n",
    "                                           unrisk_income=3.04,outliers=True,\n",
    "                                           start_cash = 1000000,\n",
    "                                           confidence_level_interval=0.95,\n",
    "                                           confidence_level_normal=0.01)"
   ]
  },
  {
   "cell_type": "code",
   "execution_count": 4,
   "metadata": {
    "scrolled": false,
    "slideshow": {
     "slide_type": "skip"
    }
   },
   "outputs": [
    {
     "name": "stdout",
     "output_type": "stream",
     "text": [
      "['TSM.csv', 'ALRS.csv', 'AMD.csv', 'NVDA.csv', 'YNDX.csv', 'FDX.csv', 'NFLX.csv', 'FIVEDR.csv', 'GOOGL.csv', 'MU.csv']\n",
      "\n",
      "Все отлично, минимальное количество акций прошло проверку\n",
      "\n",
      "Составленный портфель Тобина:\n",
      "В долях\n",
      "{'AMD': 0.075, 'NVDA': 0.1085, 'TSM': 0.1689, 'MU': 0.0582, 'YNDX': 0.0807, 'GOOGL': 0.1037, 'FIVEDR': 0.0431, 'NFLX': 0.0467, 'FDX': 0.0272, 'ALRS': 0.0004, 'unrisk': 0.2876}\n",
      "\n",
      "В рублях из  1000000.0\n",
      "{'AMD': 75000.0, 'NVDA': 108500.0, 'TSM': 168900.0, 'MU': 58200.0, 'YNDX': 80700.0, 'GOOGL': 103700.0, 'FIVEDR': 43100.0, 'NFLX': 46700.0, 'FDX': 27200.0, 'ALRS': 400.0, 'unrisk': 287600.0}\n",
      "\n"
     ]
    }
   ],
   "source": [
    "portfolio_one = start_portfolio.fit_trainsform()"
   ]
  },
  {
   "cell_type": "markdown",
   "metadata": {
    "slideshow": {
     "slide_type": "slide"
    }
   },
   "source": [
    "## Пункт 1: Обоснование выбора активов\n"
   ]
  },
  {
   "cell_type": "markdown",
   "metadata": {
    "slideshow": {
     "slide_type": "subslide"
    }
   },
   "source": [
    "### TSM \n",
    "    -  Taiwan Semiconductor производит и поставляет на рынок интегральные схемы, которые используют при производстве компьютеров,средств связи, автомобилестроении и промышленном оборудовании. В данный момент рынок связи(5G), электрокаров и новых технологий активно развивается. Генерирую огромный спрос на интегральные схемы. Заводов способных обеспечивать производство больших партий микросхем не так много, на данный момент в тройку лидеров входят intel, samsung и TSM. Но именно TSM является самым крупным контрактным производителем схем"
   ]
  },
  {
   "cell_type": "markdown",
   "metadata": {
    "slideshow": {
     "slide_type": "subslide"
    }
   },
   "source": [
    "### AMD\n",
    "    -  Advanced Micro Devices — американский производитель интегральной микросхемной электроники, один из крупнейших производителей центральных процессоров, графических процессоров и адаптеров, материнских плат и чипсетов. Компания также активно развивает технологии машинного обучения, искусственного интеллекта и блокчейна.А так как эти направления являются одними из наиболее передовых технологий в современном мире, компания является достаточно перспективной для покупки"
   ]
  },
  {
   "cell_type": "markdown",
   "metadata": {
    "slideshow": {
     "slide_type": "subslide"
    }
   },
   "source": [
    "### YNDX\n",
    "    -  Яндекс - одна из крупнейших информационных компаний в России, которая располагает различными сервисами в самых разных сферах жизни граждан. Так же у компании присутствуют продукты нацеленные на международный рынок. Эта компания развивается в различных сферах которые будут востребованы еще долгое время поэтому ее акции будут перспективны при долгосрочном владении "
   ]
  },
  {
   "cell_type": "markdown",
   "metadata": {
    "slideshow": {
     "slide_type": "subslide"
    }
   },
   "source": [
    "\n",
    "### FDX\n",
    "    - FedEx - одна из крупнейших компаний осуществляющих логистические услуги. Да полного снятия антивирусных ограничений компании предоставляющие услуги доставки, работают в авральном режиме. Поэтому можно предположить, что пока вопрос вируса все еще стоит достаточно остро, обороты компании будут только расти"
   ]
  },
  {
   "cell_type": "markdown",
   "metadata": {
    "slideshow": {
     "slide_type": "subslide"
    }
   },
   "source": [
    "### NFLX\n",
    "    - Netflix — американская развлекательная компания, поставщик фильмов и сериалов на основе потокового мультимедиа. Является не только онлайн платформой, оказывающей услуги стриминга медиаматериалов, но так же и одним из основным  их производителей. В данный момент онлайн кинотеатры это один из самых  перспективных рынков"
   ]
  },
  {
   "cell_type": "markdown",
   "metadata": {
    "slideshow": {
     "slide_type": "subslide"
    }
   },
   "source": [
    "### FIVEDR\n",
    "    - X5 Retail Group — российская рознично-торговая компания, управляющаяся продуктовыми торговыми сетями «Пятёрочка», «Перекрёсток», «Карусель». Доля по выручке на российском рынке продуктовой розницы — 11,5 %, 3-я по выручке российская компания.\n"
   ]
  },
  {
   "cell_type": "markdown",
   "metadata": {
    "slideshow": {
     "slide_type": "subslide"
    }
   },
   "source": [
    "### GOOGL\n",
    "    - Google — одна из самых крупных в мире поисковых систем интернета, принадлежащая корпорации Google Inc. Основана в 1998 году Ларри Пейджем и Сергеем Брином. Первая по популярности система, обрабатывает 41 млрд 345 млн запросов в месяц, индексирует более 25 миллиардов веб-страниц\n"
   ]
  },
  {
   "cell_type": "markdown",
   "metadata": {
    "slideshow": {
     "slide_type": "subslide"
    }
   },
   "source": [
    "### MU\n",
    "    - Micron Technology — американская транснациональная корпорация, известная своей полупроводниковой продукцией, основную часть которой составляют чипы памяти DRAM и NAND, флеш-память, SSD-накопители, а также датчики CMOS"
   ]
  },
  {
   "cell_type": "markdown",
   "metadata": {
    "slideshow": {
     "slide_type": "subslide"
    }
   },
   "source": [
    "### ALRS\n",
    "    - Алроса — российская группа алмазодобывающих компаний, занимающая лидирующую позицию в мире по объёму добычи алмазов.  В сферу ее деятельности входят: разведка месторождений, добыча, обработка и последующая продажа алмазного сырья. На Алросу приходится 95% добычи алмазов в РФ, а доля на мировом рынке достигает 25%. Основную деятельность ведет в Якутии, а запасов компании, которые составляют треть от общемировых, будет достаточно на поддержание деятельности в ближайшие 20 лет. Поэтому данная компания может позволить выделять средства на развитие процессов компании и разработку новых технологий, ведущих в перспективе к увеличению прибыли и уменьшению расходов"
   ]
  },
  {
   "cell_type": "markdown",
   "metadata": {
    "slideshow": {
     "slide_type": "subslide"
    }
   },
   "source": [
    "### NVDA\n",
    "    - Nvidia — американская технологическая компания, разработчик графических процессоров и систем на чипе.\n",
    "    NVIDIA находится в центре многих тенденций, которые обещают быть от огромных до огромных. \n",
    "    Вот основные из них:\n",
    "        - Компьютерные игры / киберспорт\n",
    "        - Искусственный интеллект (ИИ)\n",
    "        - Облачные вычисления\n",
    "        - Высокопроизводительные вычисления (HPC)\n",
    "        - Дроны\n"
   ]
  },
  {
   "cell_type": "markdown",
   "metadata": {
    "slideshow": {
     "slide_type": "slide"
    }
   },
   "source": [
    "## Пункт 2: Обоснование применимости подходов к статистической оценке атрибутов портфеля и активов"
   ]
  },
  {
   "cell_type": "markdown",
   "metadata": {
    "slideshow": {
     "slide_type": "subslide"
    }
   },
   "source": [
    "### Список атрибутов, которые были оценены или получены в нашей работе, на основании выборочных данных\n",
    "- Точечные оценки:\n",
    "    - Доходности активов\n",
    "    - Рисков активов\n",
    "- Интервальные оценки:\n",
    "    - Интервальная оценка доходностей активов\n",
    "    - Интервальная оценка рисков активов\n",
    "- Матрица корреляции активов \n",
    "- Матрица ковариации активов"
   ]
  },
  {
   "cell_type": "markdown",
   "metadata": {
    "slideshow": {
     "slide_type": "subslide"
    }
   },
   "source": [
    "### Точечные оценки\n",
    "- Точечной оценкой ожидаемой доходности является выборочное среднее, так как оно является — несмещённой оценкой теоретического среднего\n",
    "- Точечная оценка риска актива - выборочное стандартное отклонение "
   ]
  },
  {
   "cell_type": "markdown",
   "metadata": {
    "slideshow": {
     "slide_type": "subslide"
    }
   },
   "source": [
    "###  Интервальные оценки \n",
    "\n",
    "- Интервальной оценкой доходности является интервальная оценка математического ожидания нормально распределенного количественного признака Х по выборочной средней\n",
    "\n",
    "- Интервальной оценкой риска является интервальная оценка среднеквадратичного отклонения нормально распределенного количественного признака Х по выборочному среднему\n",
    "\n",
    "\n",
    "##### Для интервальной оценки атрибутов необходимо убедиться в том, что выборки пришли к нам из нормального распределения \n"
   ]
  },
  {
   "cell_type": "markdown",
   "metadata": {
    "slideshow": {
     "slide_type": "subslide"
    }
   },
   "source": [
    "### Для того что бы убедиться, что выборка пришла к нам из нормального распределения воспользуемся проверкой гипотезы о нормальном распределении по критерию Пирсона\n",
    "\n",
    "\n",
    "- Для этого воспользуемся библиотекой scipy, в которой реализована данная гипотеза в методе normaltest()\n",
    "- Принцип работы данного метода заключается в том, что получая на вход выборку от возвращает p-value, т.е. вероятность ошибки первого рода, которое мы сравниваем с уровнем значимости устанавливаемым при инициализации класса. И на основании этого сравнения мы принимаем решение отвергнуть нулевую гипотезу или нет.\n",
    "\n",
    "- В данном случае гипотезы будут следующие:\n",
    "<section>\n",
    "$$\n",
    "    \\begin{cases}\n",
    "      H_0: \\textrm{Выборка пришла к нам из нормального распределения}\\\\\n",
    "      H_1: \\textrm{Выборка пришла к нам не из нормального распределения}\n",
    "    \\end{cases}\\,.\n",
    "$$\n",
    "</section>"
   ]
  },
  {
   "cell_type": "code",
   "execution_count": 5,
   "metadata": {
    "slideshow": {
     "slide_type": "subslide"
    }
   },
   "outputs": [],
   "source": [
    "\n",
    "def __check_normaltest(self):\n",
    "        \"\"\"\n",
    "        Метод отвечающий за провекру гипотеза на нормальность выборки\n",
    "        \"\"\"\n",
    "        # Инициализируем словарь для акций, прошедших проверку\n",
    "        self.pass_shares = {}\n",
    "        # Инициализируем словарь для акций, не прошедших проверку\n",
    "        self.fail_shares = {}\n",
    "        # Переберем все акции из нашей таблицы доходности \n",
    "        for label in self.income_data.columns:\n",
    "            # Получим для каждой выборки p-value\n",
    "            _, p_value = st.normaltest(self.income_data[label])\n",
    "            # Сравним найденное p-value с уровнем значимости \n",
    "            if round(p_value,2) < self.confidence_level_normal:  \n",
    "                self.fail_shares[label] = p_value\n",
    "            else:\n",
    "                self.pass_shares[label] = p_value\n",
    "        # Проверим все ли акции прошли проверку\n",
    "        if len(self.pass_shares) >= 10:\n",
    "            print(\"Все отлично, минимальное количество акций прошло проверку\")\n",
    "            top_best_shares = (self.income_data.describe()\n",
    "                                 .loc[\"mean\",list(self.pass_shares.keys())]\n",
    "                                 .sort_values(ascending = False)\n",
    "                                 .head(len(self.pass_shares))\n",
    "                                 .index.tolist())\n",
    "            self.income_data = self.income_data.loc[:,top_best_shares]\n",
    "        else:\n",
    "            # Выведем акции и их p-value, которые не прошли проверку \n",
    "            print(\"Не все акции прошли проверку. Вот неподходящие акции\")\n",
    "            print(self.fail_shares,end = \"\\n\\n\")\n"
   ]
  },
  {
   "cell_type": "markdown",
   "metadata": {
    "slideshow": {
     "slide_type": "subslide"
    }
   },
   "source": [
    "### Посмотрим, результаты работы данного метода"
   ]
  },
  {
   "cell_type": "code",
   "execution_count": 37,
   "metadata": {
    "scrolled": true,
    "slideshow": {
     "slide_type": "subslide"
    }
   },
   "outputs": [
    {
     "name": "stdout",
     "output_type": "stream",
     "text": [
      "Акции, прошедшие проверку гипотезой\n"
     ]
    },
    {
     "data": {
      "text/plain": [
       "dict_keys(['Income_TSM', 'Income_ALRS', 'Income_AMD', 'Income_NVDA', 'Income_YNDX', 'Income_FDX', 'Income_NFLX', 'Income_FIVEDR', 'Income_GOOGL', 'Income_MU'])"
      ]
     },
     "metadata": {},
     "output_type": "display_data"
    },
    {
     "name": "stdout",
     "output_type": "stream",
     "text": [
      "Акции, не прошедшие проверку гипотезой {}\n",
      "\n"
     ]
    }
   ],
   "source": [
    "print(\"Акции, прошедшие проверку гипотезой\")\n",
    "display(start_portfolio.pass_shares.keys())\n",
    "print(\"Акции, не прошедшие проверку гипотезой\",start_portfolio.fail_shares,end = \"\\n\\n\")"
   ]
  },
  {
   "cell_type": "markdown",
   "metadata": {
    "slideshow": {
     "slide_type": "subslide"
    }
   },
   "source": [
    "Как мы можем видеть все акции прошли проверку, следовательно мы можем сказать, что вероятнее всего выборки еженедельных доходностей выбранных акций пришли к нам из нормального распределения. Данная информация позволяет нам воспользоваться интервальной оценкой. Так же мы сможем воспользоваться гипотезой о равенстве коэффициента корреляции 0, который мы разберем подробнее чуть позже"
   ]
  },
  {
   "cell_type": "markdown",
   "metadata": {
    "slideshow": {
     "slide_type": "subslide"
    }
   },
   "source": [
    "### Теперь вернемся к оценкам параметров"
   ]
  },
  {
   "cell_type": "markdown",
   "metadata": {
    "slideshow": {
     "slide_type": "subslide"
    }
   },
   "source": [
    "#### Точечные оценки"
   ]
  },
  {
   "cell_type": "code",
   "execution_count": 7,
   "metadata": {
    "scrolled": false,
    "slideshow": {
     "slide_type": "subslide"
    }
   },
   "outputs": [
    {
     "data": {
      "text/html": [
       "<div>\n",
       "<style scoped>\n",
       "    .dataframe tbody tr th:only-of-type {\n",
       "        vertical-align: middle;\n",
       "    }\n",
       "\n",
       "    .dataframe tbody tr th {\n",
       "        vertical-align: top;\n",
       "    }\n",
       "\n",
       "    .dataframe thead th {\n",
       "        text-align: right;\n",
       "    }\n",
       "</style>\n",
       "<table border=\"1\" class=\"dataframe\">\n",
       "  <thead>\n",
       "    <tr style=\"text-align: right;\">\n",
       "      <th></th>\n",
       "      <th>Income_AMD</th>\n",
       "      <th>Income_NVDA</th>\n",
       "      <th>Income_TSM</th>\n",
       "      <th>Income_MU</th>\n",
       "      <th>Income_YNDX</th>\n",
       "    </tr>\n",
       "  </thead>\n",
       "  <tbody>\n",
       "    <tr>\n",
       "      <th>mean</th>\n",
       "      <td>80.298212</td>\n",
       "      <td>76.706013</td>\n",
       "      <td>67.733849</td>\n",
       "      <td>50.096409</td>\n",
       "      <td>45.808007</td>\n",
       "    </tr>\n",
       "    <tr>\n",
       "      <th>std</th>\n",
       "      <td>370.983103</td>\n",
       "      <td>305.172567</td>\n",
       "      <td>218.891127</td>\n",
       "      <td>331.717692</td>\n",
       "      <td>233.561472</td>\n",
       "    </tr>\n",
       "  </tbody>\n",
       "</table>\n",
       "</div>"
      ],
      "text/plain": [
       "      Income_AMD  Income_NVDA  Income_TSM   Income_MU  Income_YNDX\n",
       "mean   80.298212    76.706013   67.733849   50.096409    45.808007\n",
       "std   370.983103   305.172567  218.891127  331.717692   233.561472"
      ]
     },
     "metadata": {},
     "output_type": "display_data"
    },
    {
     "data": {
      "text/html": [
       "<div>\n",
       "<style scoped>\n",
       "    .dataframe tbody tr th:only-of-type {\n",
       "        vertical-align: middle;\n",
       "    }\n",
       "\n",
       "    .dataframe tbody tr th {\n",
       "        vertical-align: top;\n",
       "    }\n",
       "\n",
       "    .dataframe thead th {\n",
       "        text-align: right;\n",
       "    }\n",
       "</style>\n",
       "<table border=\"1\" class=\"dataframe\">\n",
       "  <thead>\n",
       "    <tr style=\"text-align: right;\">\n",
       "      <th></th>\n",
       "      <th>Income_GOOGL</th>\n",
       "      <th>Income_FIVEDR</th>\n",
       "      <th>Income_NFLX</th>\n",
       "      <th>Income_FDX</th>\n",
       "      <th>Income_ALRS</th>\n",
       "    </tr>\n",
       "  </thead>\n",
       "  <tbody>\n",
       "    <tr>\n",
       "      <th>mean</th>\n",
       "      <td>34.197323</td>\n",
       "      <td>27.635334</td>\n",
       "      <td>27.430591</td>\n",
       "      <td>25.969170</td>\n",
       "      <td>6.147629</td>\n",
       "    </tr>\n",
       "    <tr>\n",
       "      <th>std</th>\n",
       "      <td>203.739396</td>\n",
       "      <td>240.914667</td>\n",
       "      <td>264.489478</td>\n",
       "      <td>309.960386</td>\n",
       "      <td>228.862832</td>\n",
       "    </tr>\n",
       "  </tbody>\n",
       "</table>\n",
       "</div>"
      ],
      "text/plain": [
       "      Income_GOOGL  Income_FIVEDR  Income_NFLX  Income_FDX  Income_ALRS\n",
       "mean     34.197323      27.635334    27.430591   25.969170     6.147629\n",
       "std     203.739396     240.914667   264.489478  309.960386   228.862832"
      ]
     },
     "metadata": {},
     "output_type": "display_data"
    }
   ],
   "source": [
    "display(start_portfolio.income_data.describe()\n",
    "        .loc[[\"mean\",\"std\"],start_portfolio.income_data.columns[:5]])\n",
    "display(start_portfolio.income_data.describe()\n",
    "        .loc[[\"mean\",\"std\"],start_portfolio.income_data.columns[5:]])"
   ]
  },
  {
   "cell_type": "markdown",
   "metadata": {
    "slideshow": {
     "slide_type": "subslide"
    }
   },
   "source": [
    "#### Интервальные оценки "
   ]
  },
  {
   "cell_type": "markdown",
   "metadata": {
    "slideshow": {
     "slide_type": "subslide"
    }
   },
   "source": [
    "\n",
    "##### Рассмотрим теоретическую составляющую интервальной оценки стандартного отклонения\n",
    "В теории  мы можем найти следующие формулы для нахождения интервальной оценки стандартного отклонения.\n",
    "Для нахождения значения значения Хи квадрат воспользуемся библиотекой scipy\n",
    "<section id = \"one\">\n",
    "$$\n",
    "    x_в\\sqrt(\\frac{n-1}{\\chi_{\\frac{1+p}{2}}^{2}}) <= \\sigma <= x_в\\sqrt(\\frac{n-1}{\\chi_{\\frac{1-p}{2}}^{2}})\\\\\n",
    "    \\textrm{где}\\\\\n",
    "    \\chi_{\\frac{1+p}{2}}^{2}- \\textrm{находят по таблице Хи квадрат}\\\\\n",
    "    x_в - \\textrm{выборочное среднее}\\\\\n",
    "$$\n",
    "<h4> Рассмотрим теоретическую составляющую интервальной оценки математического ожидания</h4>\n",
    "\n",
    "В теории задачника Гмурмана мы можем найти следующие формулы для нахождения интервальной оценки математического ожидания\n",
    "\n",
    "$$\n",
    "    x_в - t_y(s/\\sqrt(n)) < a < x_в + t_y(s/\\sqrt(n))\\\\\n",
    "    \\textrm{где}\\\\\n",
    "    t_y - \\textrm{находят по таблице Стьюдента}\\\\\n",
    "    x_в - \\textrm{выборочное среднее}\\\\\n",
    "    s/\\sqrt(n) - \\textrm{Стандартная ошибка}\\\\ \n",
    "$$\n",
    "</section>   \n",
    "\n",
    "\n"
   ]
  },
  {
   "cell_type": "markdown",
   "metadata": {
    "slideshow": {
     "slide_type": "subslide"
    }
   },
   "source": [
    "\n",
    "Для построения интервальной оценки доходности активов воспользуемся библиотекой scipy, в которой реализован  метод interval. \n",
    "\n",
    "В которой необходимо передать следующие параметры:\n",
    "\n",
    "    - уровень значимости\n",
    "    - степень свободы равная количеству элементов выборки -1\n",
    "    - выборочное среднее \n",
    "    - стандартную ошибку"
   ]
  },
  {
   "cell_type": "code",
   "execution_count": 8,
   "metadata": {
    "slideshow": {
     "slide_type": "subslide"
    }
   },
   "outputs": [],
   "source": [
    "def __get_confidence_interval(self):\n",
    "        # Инициализируем индексы, которые в дальнейше преобразуем в мультииндекс\n",
    "        pre_index = [(\"estimate_mean\",\"left_side\"),\n",
    "                     (\"estimate_mean\",\"right_side\"),\n",
    "                     (\"estimate_std\",\"left_side\"),\n",
    "                     (\"estimate_std\",\"right_side\")]        \n",
    "        list_index = np.empty(len(pre_index), dtype=object)\n",
    "        list_index[:] = pre_index\n",
    "        index = pd.MultiIndex.from_tuples(list_index)\n",
    "        # Инициализируем фрейм, в который будем записывать найденные оценки \n",
    "        self.period_estimate_table = pd.DataFrame(index = index)\n",
    "        for label in self.income_data.columns:\n",
    "            # Вычислим оценку среднего\n",
    "            mean_estimate =  st.t.interval(self.confidence_level_interval,\n",
    "                                           len(self.income_data[label])-1,\n",
    "                                           self.income_data[label].mean(),\n",
    "                                           self.income_data[label].sem())\n",
    "            # Дополним таблицу, найденными знаениями\n",
    "            self.period_estimate_table.loc[list_index[0],label] = mean_estimate[0]\n",
    "            self.period_estimate_table.loc[list_index[1],label] = mean_estimate[1] \n",
    "            # Вычислим оценку отклонения и определим уровни\n",
    "            p1 = (1 + self.confidence_level_interval)/2\n",
    "            p2 = (1 - self.confidence_level_interval)/2 \n",
    "            # Найдем, интересующие нас значения\n",
    "            value1 = chi2.ppf(p1, self.income_data.shape[0])\n",
    "            value2 = chi2.ppf(p2, self.income_data.shape[0])\n",
    "            # Дополним таблицу, найденными знаениями\n",
    "            self.period_estimate_table.loc[list_index[2],label] = round((\n",
    "                (self.income_data[label].std()*(self.income_data.shape[0] - 1)/value1)**0.5),2)\n",
    "            self.period_estimate_table.loc[list_index[3],label] = round((\n",
    "                (self.income_data[label].std()*(self.income_data.shape[0] - 1)/value1)**0.5),2)\n"
   ]
  },
  {
   "cell_type": "code",
   "execution_count": 9,
   "metadata": {
    "scrolled": false,
    "slideshow": {
     "slide_type": "subslide"
    }
   },
   "outputs": [
    {
     "data": {
      "text/html": [
       "<div>\n",
       "<style scoped>\n",
       "    .dataframe tbody tr th:only-of-type {\n",
       "        vertical-align: middle;\n",
       "    }\n",
       "\n",
       "    .dataframe tbody tr th {\n",
       "        vertical-align: top;\n",
       "    }\n",
       "\n",
       "    .dataframe thead th {\n",
       "        text-align: right;\n",
       "    }\n",
       "</style>\n",
       "<table border=\"1\" class=\"dataframe\">\n",
       "  <thead>\n",
       "    <tr style=\"text-align: right;\">\n",
       "      <th></th>\n",
       "      <th></th>\n",
       "      <th>Income_AMD</th>\n",
       "      <th>Income_NVDA</th>\n",
       "      <th>Income_TSM</th>\n",
       "      <th>Income_MU</th>\n",
       "      <th>Income_YNDX</th>\n",
       "    </tr>\n",
       "  </thead>\n",
       "  <tbody>\n",
       "    <tr>\n",
       "      <th rowspan=\"2\" valign=\"top\">estimate_mean</th>\n",
       "      <th>left_side</th>\n",
       "      <td>7.793425</td>\n",
       "      <td>17.063210</td>\n",
       "      <td>24.953855</td>\n",
       "      <td>-14.734363</td>\n",
       "      <td>0.160847</td>\n",
       "    </tr>\n",
       "    <tr>\n",
       "      <th>right_side</th>\n",
       "      <td>152.803000</td>\n",
       "      <td>136.348816</td>\n",
       "      <td>110.513842</td>\n",
       "      <td>114.927180</td>\n",
       "      <td>91.455166</td>\n",
       "    </tr>\n",
       "    <tr>\n",
       "      <th rowspan=\"2\" valign=\"top\">estimate_std</th>\n",
       "      <th>left_side</th>\n",
       "      <td>16.870000</td>\n",
       "      <td>15.300000</td>\n",
       "      <td>12.960000</td>\n",
       "      <td>15.950000</td>\n",
       "      <td>13.380000</td>\n",
       "    </tr>\n",
       "    <tr>\n",
       "      <th>right_side</th>\n",
       "      <td>16.870000</td>\n",
       "      <td>15.300000</td>\n",
       "      <td>12.960000</td>\n",
       "      <td>15.950000</td>\n",
       "      <td>13.380000</td>\n",
       "    </tr>\n",
       "  </tbody>\n",
       "</table>\n",
       "</div>"
      ],
      "text/plain": [
       "                          Income_AMD  Income_NVDA  Income_TSM   Income_MU  \\\n",
       "estimate_mean left_side     7.793425    17.063210   24.953855  -14.734363   \n",
       "              right_side  152.803000   136.348816  110.513842  114.927180   \n",
       "estimate_std  left_side    16.870000    15.300000   12.960000   15.950000   \n",
       "              right_side   16.870000    15.300000   12.960000   15.950000   \n",
       "\n",
       "                          Income_YNDX  \n",
       "estimate_mean left_side      0.160847  \n",
       "              right_side    91.455166  \n",
       "estimate_std  left_side     13.380000  \n",
       "              right_side    13.380000  "
      ]
     },
     "metadata": {},
     "output_type": "display_data"
    },
    {
     "data": {
      "text/html": [
       "<div>\n",
       "<style scoped>\n",
       "    .dataframe tbody tr th:only-of-type {\n",
       "        vertical-align: middle;\n",
       "    }\n",
       "\n",
       "    .dataframe tbody tr th {\n",
       "        vertical-align: top;\n",
       "    }\n",
       "\n",
       "    .dataframe thead th {\n",
       "        text-align: right;\n",
       "    }\n",
       "</style>\n",
       "<table border=\"1\" class=\"dataframe\">\n",
       "  <thead>\n",
       "    <tr style=\"text-align: right;\">\n",
       "      <th></th>\n",
       "      <th></th>\n",
       "      <th>Income_GOOGL</th>\n",
       "      <th>Income_FIVEDR</th>\n",
       "      <th>Income_NFLX</th>\n",
       "      <th>Income_FDX</th>\n",
       "      <th>Income_ALRS</th>\n",
       "    </tr>\n",
       "  </thead>\n",
       "  <tbody>\n",
       "    <tr>\n",
       "      <th rowspan=\"2\" valign=\"top\">estimate_mean</th>\n",
       "      <th>left_side</th>\n",
       "      <td>-5.621422</td>\n",
       "      <td>-19.448931</td>\n",
       "      <td>-24.261125</td>\n",
       "      <td>-34.609362</td>\n",
       "      <td>-38.581230</td>\n",
       "    </tr>\n",
       "    <tr>\n",
       "      <th>right_side</th>\n",
       "      <td>74.016069</td>\n",
       "      <td>74.719599</td>\n",
       "      <td>79.122308</td>\n",
       "      <td>86.547702</td>\n",
       "      <td>50.876488</td>\n",
       "    </tr>\n",
       "    <tr>\n",
       "      <th rowspan=\"2\" valign=\"top\">estimate_std</th>\n",
       "      <th>left_side</th>\n",
       "      <td>12.500000</td>\n",
       "      <td>13.590000</td>\n",
       "      <td>14.240000</td>\n",
       "      <td>15.420000</td>\n",
       "      <td>13.250000</td>\n",
       "    </tr>\n",
       "    <tr>\n",
       "      <th>right_side</th>\n",
       "      <td>12.500000</td>\n",
       "      <td>13.590000</td>\n",
       "      <td>14.240000</td>\n",
       "      <td>15.420000</td>\n",
       "      <td>13.250000</td>\n",
       "    </tr>\n",
       "  </tbody>\n",
       "</table>\n",
       "</div>"
      ],
      "text/plain": [
       "                          Income_GOOGL  Income_FIVEDR  Income_NFLX  \\\n",
       "estimate_mean left_side      -5.621422     -19.448931   -24.261125   \n",
       "              right_side     74.016069      74.719599    79.122308   \n",
       "estimate_std  left_side      12.500000      13.590000    14.240000   \n",
       "              right_side     12.500000      13.590000    14.240000   \n",
       "\n",
       "                          Income_FDX  Income_ALRS  \n",
       "estimate_mean left_side   -34.609362   -38.581230  \n",
       "              right_side   86.547702    50.876488  \n",
       "estimate_std  left_side    15.420000    13.250000  \n",
       "              right_side   15.420000    13.250000  "
      ]
     },
     "metadata": {},
     "output_type": "display_data"
    }
   ],
   "source": [
    "display(start_portfolio.period_estimate_table\n",
    "        .loc[:,start_portfolio.income_data.columns[:5]])\n",
    "display(start_portfolio.period_estimate_table\n",
    "        .loc[:,start_portfolio.income_data.columns[5:]])"
   ]
  },
  {
   "cell_type": "markdown",
   "metadata": {
    "slideshow": {
     "slide_type": "subslide"
    }
   },
   "source": [
    "### Обработка матрицы ковариации\n",
    "Из теории вероятностей известно, что для нормально распределённых случайных величин понятия зависимости и коррелированности совпадают. Следовательно, чтобы выяснить, имеется ли зависимость между случайными величинами, достаточно найти коэффициент корреляции между ними. Если окажется, что он равен нулю, то случайные величины независимы и их ковариация незначимо отличаются от нуля.\n",
    "\n"
   ]
  },
  {
   "cell_type": "markdown",
   "metadata": {
    "slideshow": {
     "slide_type": "subslide"
    }
   },
   "source": [
    "\n",
    "Снова обратимся к учебнику Гмурмана и найдем там теоретический материал, описывающий проверку гипотезы о значимости выборочного коэффициента корреляции. Проверим нулевую гипотезу о равенстве равенстве 0 генерального коэффициента корреляции. Альтернативная гипотеза: генеральный коэффициент корреляции не равен 0, т.е.\n",
    "\n",
    "$$\n",
    "    \\begin{cases}\n",
    "      H_0: \\textrm{Генеральный коэффициент корреляции} = 0\\\\\n",
    "      H_1: \\textrm{Генеральный коэффициент корреляции} \\not= 0 \\\\\n",
    "    \\end{cases}\n",
    "$$ \n",
    "\n",
    "$\\textrm{Для этого необходимо найти и сравнить наблюдаемое и критическое значения, где}$\n",
    "    \n",
    "$T_{набл} = \\frac{r_в\\sqrt{n-2}}{\\sqrt{1-r_{в}^{2}}}\\\\$\n",
    "$t_{крит}(\\alpha,n-2) - \\textrm{находят по таблице критических точек Стьдента}$\n",
    "\n",
    "$\\textrm{Если }|T_{набл}| < t_{крит}\\textrm{ то нет оснований отвергать нулевую гипотезу}$\n",
    "\n",
    "$\\textrm{Если }|T_{набл}| > t_{крит}\\textrm{ то нулевую гипотезу отвергают}$\n",
    "\n",
    "#### Посмотрим, как это было реализовано в коде"
   ]
  },
  {
   "cell_type": "code",
   "execution_count": 10,
   "metadata": {
    "slideshow": {
     "slide_type": "subslide"
    }
   },
   "outputs": [],
   "source": [
    "def __get_corr_mask(self):\n",
    "        \"\"\"\n",
    "        Метод, который проверят гипотезу на равенство коэффициента коррелции равном 0\n",
    "        \"\"\"\n",
    "        # Инициализируем пустой массив, а котором будет хранить маску\n",
    "        self.corr_mask = []\n",
    "        n = self.income_data.describe().loc[\"count\"][0]\n",
    "        # Переберем все коэффициенты\n",
    "        for array, i in zip(self.income_data.corr().values,range(0,len(self.income_data.corr()))):\n",
    "                pre_corr = []\n",
    "                for ind in range(len(array)):\n",
    "                    if ind != i:\n",
    "                        # Найдем наблюдаемое значение\n",
    "                        t_nabl = (array[ind]*(n-2)**0.5)/(1-array[ind]**2)**0.5\n",
    "                        # Сравним наблюдаемое значение с критическим \n",
    "                        if st.t.ppf(1-0.05/2, n-2) < abs(t_nabl):\n",
    "                            pre_corr.append(0)\n",
    "                        else:\n",
    "                            pre_corr.append(1)\n",
    "                    else:\n",
    "                        pre_corr.append(1)\n",
    "                self.corr_mask.append(pre_corr)"
   ]
  },
  {
   "cell_type": "markdown",
   "metadata": {
    "slideshow": {
     "slide_type": "subslide"
    }
   },
   "source": [
    "##### Пример результата работы данного метода\n",
    "\n",
    "```python\n",
    "[[1, 0, 0, 0, 0, 0, 1, 0, 0, 0],\n",
    " [0, 1, 0, 0, 0, 0, 1, 0, 0, 0],\n",
    " [0, 0, 1, 0, 1, 0, 1, 0, 0, 0],\n",
    " [0, 0, 0, 1, 0, 0, 1, 0, 0, 0],\n",
    " [0, 0, 1, 0, 1, 0, 0, 0, 0, 0],\n",
    " [0, 0, 0, 0, 0, 1, 1, 0, 0, 0],\n",
    " [1, 1, 1, 1, 0, 1, 1, 1, 1, 1],\n",
    " [0, 0, 0, 0, 0, 0, 1, 1, 0, 0],\n",
    " [0, 0, 0, 0, 0, 0, 1, 0, 1, 0],\n",
    " [0, 0, 0, 0, 0, 0, 1, 0, 0, 1]]\n",
    "```"
   ]
  },
  {
   "cell_type": "code",
   "execution_count": 11,
   "metadata": {
    "slideshow": {
     "slide_type": "skip"
    }
   },
   "outputs": [
    {
     "data": {
      "text/plain": [
       "[[1, 0, 0, 0, 0, 0, 1, 0, 0, 0],\n",
       " [0, 1, 0, 0, 0, 0, 1, 0, 0, 0],\n",
       " [0, 0, 1, 0, 1, 0, 1, 0, 0, 0],\n",
       " [0, 0, 0, 1, 0, 0, 1, 0, 0, 0],\n",
       " [0, 0, 1, 0, 1, 0, 0, 0, 0, 0],\n",
       " [0, 0, 0, 0, 0, 1, 1, 0, 0, 0],\n",
       " [1, 1, 1, 1, 0, 1, 1, 1, 1, 1],\n",
       " [0, 0, 0, 0, 0, 0, 1, 1, 0, 0],\n",
       " [0, 0, 0, 0, 0, 0, 1, 0, 1, 0],\n",
       " [0, 0, 0, 0, 0, 0, 1, 0, 0, 1]]"
      ]
     },
     "execution_count": 11,
     "metadata": {},
     "output_type": "execute_result"
    }
   ],
   "source": [
    "start_portfolio.corr_mask"
   ]
  },
  {
   "cell_type": "markdown",
   "metadata": {
    "slideshow": {
     "slide_type": "subslide"
    }
   },
   "source": [
    "#### После этого мы форматируем матрицу ковариации согласно найденной выше матрицы \n",
    "Это реализовано следующим образом"
   ]
  },
  {
   "cell_type": "code",
   "execution_count": 12,
   "metadata": {
    "slideshow": {
     "slide_type": "subslide"
    }
   },
   "outputs": [],
   "source": [
    "def __format_cov_matrix(self):\n",
    "        \"\"\"\n",
    "        Метод, обрабатывающий матрицу ковариации, согласно найденной маске корреляции \n",
    "        \"\"\"\n",
    "        self.total_cov = []\n",
    "        for array_corr,array_cov in zip(self.corr_mask,self.income_data.cov().values):\n",
    "            pre_cov = []\n",
    "            for i in range(len(array_corr)):\n",
    "                if array_corr[i] == 1:\n",
    "                    pre_cov.append(array_cov[i])\n",
    "                else:\n",
    "                    pre_cov.append(0)\n",
    "            self.total_cov.append(pre_cov)"
   ]
  },
  {
   "cell_type": "markdown",
   "metadata": {
    "slideshow": {
     "slide_type": "subslide"
    }
   },
   "source": [
    "### На этом с подготовка данных заканчивается и мы переходим к самому главному, задаче Тобина"
   ]
  },
  {
   "cell_type": "markdown",
   "metadata": {
    "slideshow": {
     "slide_type": "subslide"
    }
   },
   "source": [
    "Формализуем задачу:\n",
    "Для нахождения оптимального портфеля необходимо решить следующую систему:\n",
    "$$\n",
    "    \\begin{cases}\n",
    "       \\sum_{i,j=1}^{n} x_{i}x_{j}\\sigma_{ij} \\rightarrow min\\\\\n",
    "       x_{0}a_{0} +  \\sum_{i=1}^{n} x_{i}a_{i} = a_{p}\\\\\n",
    "       x_{0} + \\sum_{i=1}^{n} x_{i} = 1\\\\\n",
    "    \\end{cases}\n",
    "$$\n",
    "\n",
    "Выразим x_0 из последнего уравнения и подставим его в предпоследнее уравнение:\n",
    "\n",
    "$x_{0} = 1 - \\sum_{i=1}^{n} x_{i}\\\\$\n",
    "$\\sum_{i=1}^{n} (a_{i}-a_{0})x_{i} = (a_{p}-a_{0})$\n",
    "\n",
    "Решим задачу методом неопределенных множителей  Лагранжа. Тогда функция Лагранжа будет иметь вид:\n",
    "\n",
    "$L =  \\sum_{i,j=1}^{n} x_{i}x_{j}\\sigma_{ij} + 2\\lambda (\\sum_{i=1}^{n} (a_{i}-a_{0})x_{i} = (a_{p}-a_{0}))$\n",
    "\n",
    "В точке экстремума частные производные функции Лагранжа по\n",
    "всем переменным $x_i$ и $\\lambda$ равны нулю, поэтому:\n",
    "\n",
    "$$\n",
    "    \\begin{cases}\n",
    "       \\frac{\\delta L}{\\delta x_{i}} = 2(\\sum_{j=1}^{n} \\sigma_{ij}x_{j} + \\lambda(a_{i}-a_{0})) = 0\\\\\n",
    "       \\frac{\\delta L}{\\delta \\lambda} = 2(\\sum_{i=1}^{n} (a_{i}-a_{0})x_{i} = (a_{p}-a_{0}) = 0\n",
    "    \\end{cases}\n",
    "$$"
   ]
  },
  {
   "cell_type": "markdown",
   "metadata": {
    "slideshow": {
     "slide_type": "subslide"
    }
   },
   "source": [
    "\n",
    "Что в свою очередь равносильно \n",
    "\n",
    "$$\n",
    "    \\begin{cases}\n",
    "       VX + \\lambda(A-a_{0}I)= 0\\\\\n",
    "       (A-a_{0}I)^{T}X = a_{p}-a_{0}\n",
    "    \\end{cases}\n",
    "$$\n",
    "\n",
    "Где \n",
    "\n",
    "$V - \\textrm{Матрица ковариаций рисковой части}$\n",
    "\n",
    "$X - \\textrm{Вектор долей капитала, вкладываемого в актив}$\n",
    "\n",
    "$A - \\textrm{Вектор доходностей рисковой части портфеля}$\n",
    "\n",
    "$I - \\textrm{единичный вектор-столбец}$\n",
    "\n",
    "Из первого уравнения системы находим\n",
    "\n",
    "$X = -\\lambda V^{-1}(A-a_{0}I)$\n",
    "\n",
    "Подставим его во второе и получим:\n",
    "\n",
    "$\\lambda = -\\frac{(a_{p}-a_{0})}{(A-a_{0}I)^{T}V^{-1}(A-a_{0}I)}$\n",
    "\n"
   ]
  },
  {
   "cell_type": "markdown",
   "metadata": {
    "slideshow": {
     "slide_type": "subslide"
    }
   },
   "source": [
    "Введем обозначение:\n",
    "\n",
    "$D = (A-a_{0}I)^{T}V^{-1}(A-a_{0}I)$\n",
    "\n",
    "Получим \n",
    "\n",
    "$\\lambda = -\\frac{(a_{p}-a_{0})}{(A-a_{0}I)^{T}V^{-1}(A-a_{0}I)} = -\\frac{(a_{p}-a_{0})}{D}$\n",
    "\n",
    "Теперь подставим полученную лямбду в уравнение, где мы выражали вектор долей и получим\n",
    "\n",
    "$X = \\frac{(a_{p}-a_{0})}{(A-a_{0}I)^{T}V^{-1}(A-a_{0}I)}V^{-1}(A-a_{0}I)$"
   ]
  },
  {
   "cell_type": "markdown",
   "metadata": {
    "slideshow": {
     "slide_type": "subslide"
    }
   },
   "source": [
    "#### Теперь, когда мы вывели итоговую формулу, можно реализовать метод на ее основе"
   ]
  },
  {
   "cell_type": "code",
   "execution_count": 13,
   "metadata": {
    "slideshow": {
     "slide_type": "subslide"
    }
   },
   "outputs": [],
   "source": [
    "def __solve_Tobin(self):\n",
    "        \"\"\"\n",
    "        Метод, решиающий задачу Тобина\n",
    "        \"\"\"\n",
    "        # Получаем обратную матрицу ковариаций \n",
    "        V_reverse = np.linalg.inv(self.total_cov)\n",
    "        # Получаем вектор доходностей активов\n",
    "        incomes_vector = self.income_data.describe().loc[\"mean\",:].values\n",
    "        # Преобразуем вектор доходностей с учетом безрискового актива\n",
    "        ready_vector = incomes_vector - self.unrisk_income*np.ones(len(incomes_vector))\n",
    "        # Решаем уравнение Тобина\n",
    "        D = (ready_vector.T@V_reverse)@ready_vector\n",
    "        self.portfolio_frac = (\n",
    "            ((self.portfolio_income-self.unrisk_income)/D).reshape(1,)*V_reverse@ready_vector)\n",
    "        \n",
    "        portfolio = {label[len(self.add_income_text):]:round(frac,4) \n",
    "                     for label,frac in zip(self.income_data.columns,self.portfolio_frac)}\n",
    "        \n",
    "        portfolio[\"unrisk\"] = round(1- sum(portfolio.values()),4)\n",
    "        self.value_portfolio = {key:item*self.start_cash for key,item in portfolio.items()}\n",
    "        \n",
    "        print(\"В долях\")\n",
    "        print(portfolio,end = \"\\n\\n\")  \n",
    "        print(\"В рублях из \",sum(self.value_portfolio.values()))\n",
    "        print(self.value_portfolio,end = \"\\n\\n\")\n",
    "        \n",
    "        return(portfolio)"
   ]
  },
  {
   "cell_type": "markdown",
   "metadata": {
    "slideshow": {
     "slide_type": "slide"
    }
   },
   "source": [
    "## Пункт 3: Составим портфель"
   ]
  },
  {
   "cell_type": "code",
   "execution_count": 14,
   "metadata": {
    "scrolled": false,
    "slideshow": {
     "slide_type": "subslide"
    }
   },
   "outputs": [
    {
     "name": "stdout",
     "output_type": "stream",
     "text": [
      "['TSM.csv', 'ALRS.csv', 'AMD.csv', 'NVDA.csv', 'YNDX.csv', 'FDX.csv', 'NFLX.csv', 'FIVEDR.csv', 'GOOGL.csv', 'MU.csv']\n",
      "\n",
      "Все отлично, минимальное количество акций прошло проверку\n",
      "\n",
      "Составленный портфель Тобина:\n",
      "В долях\n",
      "{'AMD': 0.075, 'NVDA': 0.1085, 'TSM': 0.1689, 'MU': 0.0582, 'YNDX': 0.0807, 'GOOGL': 0.1037, 'FIVEDR': 0.0431, 'NFLX': 0.0467, 'FDX': 0.0272, 'ALRS': 0.0004, 'unrisk': 0.2876}\n",
      "\n",
      "В рублях из  1000000.0\n",
      "{'AMD': 75000.0, 'NVDA': 108500.0, 'TSM': 168900.0, 'MU': 58200.0, 'YNDX': 80700.0, 'GOOGL': 103700.0, 'FIVEDR': 43100.0, 'NFLX': 46700.0, 'FDX': 27200.0, 'ALRS': 400.0, 'unrisk': 287600.0}\n",
      "\n"
     ]
    }
   ],
   "source": [
    "start_portfolio = Get_investment_portfolio(\"./data\",portfolio_income=40,\n",
    "                                           unrisk_income=3.04,outliers=True,\n",
    "                                           start_cash = 1000000,\n",
    "                                           confidence_level_interval=0.95,\n",
    "                                           confidence_level_normal=0.01,\n",
    "                                           base_cash=1000000)\n",
    "start_frac = start_portfolio.fit_trainsform()"
   ]
  },
  {
   "cell_type": "code",
   "execution_count": 46,
   "metadata": {
    "slideshow": {
     "slide_type": "subslide"
    }
   },
   "outputs": [
    {
     "data": {
      "image/png": "[encoded data removed]",
      "text/plain": [
       "<Figure size 1080x792 with 1 Axes>"
      ]
     },
     "metadata": {},
     "output_type": "display_data"
    }
   ],
   "source": [
    "df = pd.DataFrame(data = start_frac.values(),\n",
    "                  index=start_frac.keys())\n",
    "df.columns = [\"frac\"]\n",
    "plot = df.plot.pie(y='frac', figsize=(15, 11))"
   ]
  },
  {
   "cell_type": "markdown",
   "metadata": {
    "slideshow": {
     "slide_type": "subslide"
    }
   },
   "source": [
    "### Проведем первый пересмотр портфеля"
   ]
  },
  {
   "cell_type": "code",
   "execution_count": 15,
   "metadata": {
    "slideshow": {
     "slide_type": "subslide"
    }
   },
   "outputs": [],
   "source": [
    "first_rebalance = Get_investment_portfolio(\"./data_one\",portfolio_income=40,\n",
    "                                           unrisk_income=3.04,outliers=True,\n",
    "                                           start_cash = 1000000,\n",
    "                                           confidence_level_interval=0.95,\n",
    "                                           confidence_level_normal=0.01,\n",
    "                                           last_income=True,start_portfolio=start_frac,\n",
    "                                           base_cash=1000000)"
   ]
  },
  {
   "cell_type": "code",
   "execution_count": 16,
   "metadata": {
    "scrolled": false,
    "slideshow": {
     "slide_type": "subslide"
    }
   },
   "outputs": [
    {
     "name": "stdout",
     "output_type": "stream",
     "text": [
      "['TSM.csv', 'ALRS.csv', 'AMD.csv', 'NVDA.csv', 'YNDX.csv', 'FDX.csv', 'NFLX.csv', 'FIVEDR.csv', 'GOOGL.csv', 'MU.csv']\n",
      "\n",
      "Динамика акций за период:\n",
      "В долях\n",
      "{'TSM': -0.07844285087077418, 'ALRS': 0.026508509541000445, 'AMD': -0.05659745478901533, 'NVDA': -0.081197869560848, 'YNDX': -0.038321678321678355, 'FDX': -0.0005497957901350392, 'NFLX': -0.0025360038502832264, 'FIVEDR': -0.04849660523763336, 'GOOGL': -0.03202780530541306, 'MU': 0.006266490765171585}\n",
      "\n",
      "В рублях\n",
      "{'TSM': -5883.213815308064, 'ALRS': 2876.1732851985485, 'AMD': -9559.310113864689, 'NVDA': -4725.7160084413545, 'YNDX': -3092.5594405594434, 'FDX': -57.01382343700356, 'NFLX': -109.30176594720704, 'FIVEDR': -2264.791464597478, 'GOOGL': -871.1563043072352, 'MU': 2.5065963060686345}\n",
      "\n",
      "Текущий капитал: 976315.617.\n",
      " Стартовый капитал: 1000000.\n",
      " Разница c предыдущим периодом: -23684.383\n",
      " Общая разница: -23684.38\n",
      "\n",
      "Все отлично, минимальное количество акций прошло проверку\n",
      "\n",
      "Составленный портфель Тобина:\n",
      "В долях\n",
      "{'AMD': 0.0826, 'NVDA': 0.1142, 'TSM': 0.172, 'MU': 0.0674, 'YNDX': 0.086, 'GOOGL': 0.1111, 'NFLX': 0.0539, 'FDX': 0.0333, 'FIVEDR': 0.0322, 'ALRS': 0.0077, 'unrisk': 0.2396}\n",
      "\n",
      "В рублях из  976315.6170000001\n",
      "{'AMD': 80643.6699642, 'NVDA': 111495.2434614, 'TSM': 167926.28612399998, 'MU': 65803.6725858, 'YNDX': 83963.14306199999, 'GOOGL': 108468.6650487, 'NFLX': 52623.4117563, 'FDX': 32511.310046100003, 'FIVEDR': 31437.3628674, 'ALRS': 7517.6302509, 'unrisk': 233925.2218332}\n",
      "\n"
     ]
    }
   ],
   "source": [
    "first_rebalance_frac = first_rebalance.fit_trainsform()"
   ]
  },
  {
   "cell_type": "code",
   "execution_count": 47,
   "metadata": {
    "slideshow": {
     "slide_type": "subslide"
    }
   },
   "outputs": [
    {
     "data": {
      "image/png": "[encoded data removed]",
      "text/plain": [
       "<Figure size 1080x792 with 1 Axes>"
      ]
     },
     "metadata": {},
     "output_type": "display_data"
    }
   ],
   "source": [
    "df = pd.DataFrame(data = first_rebalance_frac.values(),\n",
    "                  index=first_rebalance_frac.keys())\n",
    "df.columns = [\"frac\"]\n",
    "plot = df.plot.pie(y='frac', figsize=(15, 11))"
   ]
  },
  {
   "cell_type": "markdown",
   "metadata": {
    "slideshow": {
     "slide_type": "subslide"
    }
   },
   "source": [
    "### Проведем второй пересмотр портфеля"
   ]
  },
  {
   "cell_type": "code",
   "execution_count": 17,
   "metadata": {
    "slideshow": {
     "slide_type": "subslide"
    }
   },
   "outputs": [],
   "source": [
    "second_rebalance = Get_investment_portfolio(\"./data_two\",portfolio_income=40,\n",
    "                                           unrisk_income=3.04,outliers=True,\n",
    "                                           start_cash = 976307.507,\n",
    "                                           confidence_level_interval=0.95,\n",
    "                                           confidence_level_normal=0.01,\n",
    "                                           last_income=True,\n",
    "                                            start_portfolio=first_rebalance_frac,\n",
    "                                            base_cash=1000000)"
   ]
  },
  {
   "cell_type": "code",
   "execution_count": 18,
   "metadata": {
    "scrolled": true,
    "slideshow": {
     "slide_type": "subslide"
    }
   },
   "outputs": [
    {
     "name": "stdout",
     "output_type": "stream",
     "text": [
      "['TSM.csv', 'ALRS.csv', 'AMD.csv', 'NVDA.csv', 'YNDX.csv', 'FDX.csv', 'NFLX.csv', 'FIVEDR.csv', 'GOOGL.csv', 'MU.csv']\n",
      "\n",
      "Динамика акций за период:\n",
      "В долях\n",
      "{'TSM': -0.04081308559631571, 'ALRS': 0.07164389067524125, 'AMD': -0.07087918589516044, 'NVDA': -0.09136315578402432, 'YNDX': -0.018781683703149598, 'FDX': 0.010962671905697526, 'NFLX': -0.0416813584485479, 'FIVEDR': -0.0026503567787971457, 'GOOGL': 0.037172772279676185, 'MU': -0.028405987108051943}\n",
      "\n",
      "В рублях\n",
      "{'TSM': -3291.289664935271, 'ALRS': 7987.8866795088725, 'AMD': -11902.379580072908, 'NVDA': -6011.98124923734, 'YNDX': -1576.9560962396679, 'FDX': 1189.0965093802954, 'NFLX': -2193.397068069333, 'FIVEDR': -86.16585520495413, 'GOOGL': 1168.6042235713096, 'MU': -213.54393412148977}\n",
      "\n",
      "Текущий капитал: 961377.381.\n",
      " Стартовый капитал: 976307.507.\n",
      " Разница c предыдущим периодом: -14930.126\n",
      " Общая разница: -38622.62\n",
      "\n",
      "Все отлично, минимальное количество акций прошло проверку\n",
      "\n",
      "Составленный портфель Тобина:\n",
      "В долях\n",
      "{'AMD': 0.085, 'NVDA': 0.1134, 'TSM': 0.1787, 'MU': 0.0714, 'YNDX': 0.0916, 'GOOGL': 0.1288, 'FDX': 0.0375, 'NFLX': 0.0519, 'FIVEDR': 0.035, 'ALRS': 0.0094, 'unrisk': 0.1973}\n",
      "\n",
      "В рублях из  961377.381\n",
      "{'AMD': 81717.07738500001, 'NVDA': 109020.1950054, 'TSM': 171798.1379847, 'MU': 68642.34500340001, 'YNDX': 88062.1680996, 'GOOGL': 123825.4066728, 'FDX': 36051.6517875, 'NFLX': 49895.48607390001, 'FIVEDR': 33648.208335, 'ALRS': 9036.947381400001, 'unrisk': 189679.7572713}\n",
      "\n"
     ]
    }
   ],
   "source": [
    "second_rebalance_frac = second_rebalance.fit_trainsform()"
   ]
  },
  {
   "cell_type": "code",
   "execution_count": 48,
   "metadata": {
    "slideshow": {
     "slide_type": "subslide"
    }
   },
   "outputs": [
    {
     "data": {
      "image/png": "[encoded data removed]",
      "text/plain": [
       "<Figure size 1080x792 with 1 Axes>"
      ]
     },
     "metadata": {},
     "output_type": "display_data"
    }
   ],
   "source": [
    "df = pd.DataFrame(data = second_rebalance_frac.values(),\n",
    "                  index=second_rebalance_frac.keys())\n",
    "df.columns = [\"frac\"]\n",
    "plot = df.plot.pie(y='frac', figsize=(15, 11))"
   ]
  },
  {
   "cell_type": "markdown",
   "metadata": {
    "slideshow": {
     "slide_type": "slide"
    }
   },
   "source": [
    "## Пункт 4: Разберем каждый подпункт плана отдельно с кодом "
   ]
  },
  {
   "cell_type": "markdown",
   "metadata": {
    "slideshow": {
     "slide_type": "subslide"
    }
   },
   "source": [
    "### Получить котировки акций"
   ]
  },
  {
   "cell_type": "code",
   "execution_count": 19,
   "metadata": {
    "slideshow": {
     "slide_type": "subslide"
    }
   },
   "outputs": [],
   "source": [
    "\n",
    "def __basic_load(self):\n",
    "        \"\"\"\n",
    "        Метод отвечающий за загрузку данных из указанной директории\n",
    "        \"\"\"\n",
    "        # Получаем имена всех фалов, находщихся в указанной директории\n",
    "        all_files = [name for _,_,name in os.walk(self.data_dir_path)]\n",
    "        \n",
    "        if '.DS_Store' in all_files:\n",
    "            index_del = all_files.index('.DS_Store')\n",
    "            all_files.pop(index_del)\n",
    "        print(all_files,end = \"\\n\\n\")\n",
    "        \n",
    "        # Генерируем словарь имен и значений полученных из фалов\n",
    "        self.all_data = ({name[:-4]:pd.read_csv(self.data_dir_path+\"/\"+name)\n",
    "                          .loc[:,[\"Дата\",\"Цена\"]] for name in all_files})\n"
   ]
  },
  {
   "cell_type": "markdown",
   "metadata": {
    "slideshow": {
     "slide_type": "subslide"
    }
   },
   "source": [
    "### Объединить все цены в одну таблицу по дате закрытия"
   ]
  },
  {
   "cell_type": "code",
   "execution_count": 20,
   "metadata": {
    "slideshow": {
     "slide_type": "subslide"
    }
   },
   "outputs": [],
   "source": [
    "\n",
    "def __merge(self):\n",
    "        \"\"\"\n",
    "        Метод отвечающий за объединение таблиц в одну\n",
    "        \"\"\"\n",
    "        count = 0\n",
    "        for dataset in self.all_data.values():\n",
    "            if count == 0:\n",
    "                self.total = dataset.copy()\n",
    "            else:\n",
    "                self.total = self.total.merge(dataset, on='Дата')\n",
    "            count+= 1\n",
    "        # Установим признак \"Дата\" как индекс во всей таблице\n",
    "        self.total = self.total.set_index(\"Дата\")\n",
    "        self.total.columns = self.all_data.keys()\n"
   ]
  },
  {
   "cell_type": "markdown",
   "metadata": {
    "slideshow": {
     "slide_type": "subslide"
    }
   },
   "source": [
    "### Если передан специальный флаг, рассчитать доходность активов"
   ]
  },
  {
   "cell_type": "code",
   "execution_count": 21,
   "metadata": {
    "slideshow": {
     "slide_type": "subslide"
    }
   },
   "outputs": [],
   "source": [
    "\n",
    "def __get_income_rebalance(self):\n",
    "        \"\"\"\n",
    "        Метод отвечающий за вычисление доходность за период T1 и вычисление изменений капитала \n",
    "        \"\"\"\n",
    "        # Вычисление текущих значений цен, выбранных акций и их обработка\n",
    "        present_price = (self.total.iloc[0].apply(lambda x: x.replace(\",\", \".\")))\n",
    "        present_price = (present_price\n",
    "                         .apply(lambda price: float(self.__format_data(price))))\n",
    "        # Вычисление прошлых значений цен, выбранных акций и их обработка\n",
    "        past_price = (self.total.iloc[1].apply(lambda x: x.replace(\",\", \".\")))\n",
    "        past_price = (past_price\n",
    "                      .apply(lambda price: float(self.__format_data(price))))\n",
    "        # Вычисление изменения цен в долях\n",
    "        self.result_income_frac = ((present_price-past_price)/past_price).to_dict()\n",
    "        # вычисление изменений вложений в каждую акцию \n",
    "        self.result_income_value = ({delta[0]:delta[1]*self.start_cash*item_before[1]\n",
    "                                     for delta,item_before \n",
    "                                     in zip(self.result_income_frac.items(),\n",
    "                                     self.start_portfolio.items())})\n",
    "        # Вычисление разницы между стартовым капиталом и текущим \n",
    "        delta = round(sum(self.result_income_value.values()),3)\n",
    "        # Получение текущего капитала\n",
    "        cur_cash = round(self.start_cash + delta,3)\n",
    "        # Блок вывода\n",
    "        print(\"Динамика акций за период:\")\n",
    "        print(\"В долях\")\n",
    "        print(self.result_income_frac,end = \"\\n\\n\")  \n",
    "        print(\"В рублях\")\n",
    "        print(self.result_income_value,end = \"\\n\\n\")\n",
    "        print(\"Текущий капитал: {}.\\n Стартовый капитал: {}.\\n Разница: {}\"\n",
    "              .format(cur_cash,self.start_cash,delta),end = \"\\n\\n\")\n",
    "        # Обновление значения капитала\n",
    "        self.start_cash = cur_cash\n",
    "\n"
   ]
  },
  {
   "cell_type": "markdown",
   "metadata": {
    "slideshow": {
     "slide_type": "subslide"
    }
   },
   "source": [
    "### Вычислить еженедельную доходность"
   ]
  },
  {
   "cell_type": "code",
   "execution_count": 22,
   "metadata": {
    "slideshow": {
     "slide_type": "subslide"
    }
   },
   "outputs": [],
   "source": [
    "\n",
    "def __calculate_income(self):\n",
    "        \"\"\"\n",
    "        Метод вычисляющий еженедельную доходность в годовых процентах\n",
    "        \"\"\"\n",
    "        total_week_per_year = 52\n",
    "        count_weeks = self.total.shape[0]\n",
    "        # Инициализир пустой датафрейм\n",
    "        self.income_data = pd.DataFrame()\n",
    "        # Сгенерируем  имена столбцов \n",
    "        self.add_income_text = \"Income_\"\n",
    "        new_labels_income = [self.add_income_text+name for name in self.total.columns]\n",
    "        for new_label,old_label in zip(new_labels_income,self.total.columns):\n",
    "            # Отформатируем стартовое значение\n",
    "            for row in range(1,count_weeks):\n",
    "                # Отформатируем текущее значение\n",
    "                if \",\" in str(self.total.iloc[row-1][old_label]):\n",
    "                    cur_val = self.total.iloc[row-1][old_label].replace(\",\", \".\")\n",
    "                    cur_val = self.__format_data(cur_val)\n",
    "                else:\n",
    "                    cur_val = self.total.iloc[row-1][old_label]\n",
    "                    \n",
    "                    \n",
    "                if \",\" in str(self.total.iloc[row][old_label]):\n",
    "                    #Отформатируем следующее значение\n",
    "                    next_val = self.total.iloc[row][old_label].replace(\",\", \".\")\n",
    "                    next_val = self.__format_data(next_val)\n",
    "                else:\n",
    "                    next_val = self.total.iloc[row][old_label]\n",
    "                # Вычислим недельную доходность\n",
    "                self.income_data.loc[row-1,new_label] = (((float(cur_val)- float(next_val))\n",
    "                                                         /float(next_val))\n",
    "                                                         *100\n",
    "                                                         *total_week_per_year)\n",
    "\n"
   ]
  },
  {
   "cell_type": "markdown",
   "metadata": {
    "slideshow": {
     "slide_type": "subslide"
    }
   },
   "source": [
    "## Проверить гипотезу о нормальном распределении"
   ]
  },
  {
   "cell_type": "code",
   "execution_count": 23,
   "metadata": {
    "slideshow": {
     "slide_type": "subslide"
    }
   },
   "outputs": [],
   "source": [
    "def __check_normaltest(self):\n",
    "        \"\"\"\n",
    "        Метод отвечающий за провекру гипотеза на нормальность выборки\n",
    "        \"\"\"\n",
    "        # Инициализируем словарь для акций, прошедших проверку\n",
    "        self.pass_shares = {}\n",
    "        # Инициализируем словарь для акций, не прошедших проверку\n",
    "        self.fail_shares = {}\n",
    "        # Переберем все акции из нашей таблицы доходности \n",
    "        for label in self.income_data.columns:\n",
    "            # Получим для каждой выборки p-value\n",
    "            _, p_value = st.normaltest(self.income_data[label])\n",
    "            # Сравним найденное p-value с уровнем значимости \n",
    "            if round(p_value,2) < self.confidence_level_normal:  \n",
    "                self.fail_shares[label] = round(p_value,3)\n",
    "            else:\n",
    "                self.pass_shares[label] = round(p_value,3)\n",
    "        # Проверим все ли акции прошли проверку\n",
    "        if len(self.pass_shares) >= 10:\n",
    "            print(\"Все отлично, минимальное количество акций прошло проверку\")\n",
    "            top_best_shares = (self.income_data.describe()\n",
    "                               .loc[\"mean\",list(self.pass_shares.keys())]\n",
    "                               .sort_values(ascending = False)\n",
    "                               .head(len(self.pass_shares))\n",
    "                               .index.tolist())\n",
    "            self.income_data = self.income_data.loc[:,top_best_shares]\n",
    "        else:\n",
    "            # Выведем акции и их p-value, которые не прошли проверку \n",
    "            print(\"Не все акции прошли проверку. Вот неподходящие акции\")\n",
    "            print(self.fail_shares,end = \"\\n\\n\")\n"
   ]
  },
  {
   "cell_type": "markdown",
   "metadata": {
    "slideshow": {
     "slide_type": "subslide"
    }
   },
   "source": [
    "## Вычислить интервальные оценки параметров"
   ]
  },
  {
   "cell_type": "code",
   "execution_count": 24,
   "metadata": {
    "slideshow": {
     "slide_type": "subslide"
    }
   },
   "outputs": [],
   "source": [
    "\n",
    "def __get_confidence_interval(self):\n",
    "        # Инициализируем индексы, которые в дальнейше преобразуем в мультииндекс\n",
    "        pre_index = [(\"estimate_mean\",\"left_side\"),\n",
    "                      (\"estimate_mean\",\"right_side\"),\n",
    "                      (\"estimate_std\",\"left_side\"),\n",
    "                      (\"estimate_std\",\"right_side\")]\n",
    "        list_index = np.empty(len(pre_index), dtype=object)\n",
    "        list_index[:] = pre_index\n",
    "        index = pd.MultiIndex.from_tuples(list_index)\n",
    "        # Инициализируем фрейм, в который будем записывать найденные оценки \n",
    "        self.period_estimate_table = pd.DataFrame(index = index)\n",
    "        for label in self.income_data.columns:\n",
    "            # Вычислим оценку среднего\n",
    "            mean_estimate =  st.t.interval(self.confidence_level_interval,\n",
    "                                           len(self.income_data[label])-1,\n",
    "                                           self.income_data[label].mean(),\n",
    "                                           self.income_data[label].sem())\n",
    "            # Добавим найденные данные в таблицу\n",
    "            self.period_estimate_table.loc[list_index[0],label] = mean_estimate[0]\n",
    "            self.period_estimate_table.loc[list_index[1],label] = mean_estimate[1]\n",
    "            # Вычислим оценку отклонения\n",
    "            # Определим уровни\n",
    "            p1 = (1 + self.confidence_level_interval)/2\n",
    "            p2 = (1 - self.confidence_level_interval)/2 \n",
    "            # Найдем, интересующие нас значения\n",
    "            value1 = chi2.ppf(p1, self.income_data.shape[0])\n",
    "            value2 = chi2.ppf(p2, self.income_data.shape[0])\n",
    "            pre_culc = self.income_data[label].std()*(self.income_data.shape[0])\n",
    "            # Дополним таблицу, найденными знаениями\n",
    "            self.period_estimate_table.loc[list_index[2],label] = (\n",
    "                round((((pre_culc)/value1)**0.5),2))\n",
    "            \n",
    "            self.period_estimate_table.loc[list_index[3],label] = (\n",
    "                round((((pre_culc)/value2)**0.5),2))\n"
   ]
  },
  {
   "cell_type": "markdown",
   "metadata": {
    "slideshow": {
     "slide_type": "subslide"
    }
   },
   "source": [
    "## Проверить гипотезу о равенстве коэффициента корреляции 0"
   ]
  },
  {
   "cell_type": "code",
   "execution_count": 25,
   "metadata": {
    "slideshow": {
     "slide_type": "subslide"
    }
   },
   "outputs": [],
   "source": [
    "def __get_corr_mask(self):\n",
    "        \"\"\"\n",
    "        Метод, который проверят гипотезу на равенство коэффициента коррелции равном 0\n",
    "        \"\"\"\n",
    "        # Инициализируем пустой массив, а котором будет хранить маску\n",
    "        self.corr_mask = []\n",
    "        n = self.income_data.describe().loc[\"count\"][0]\n",
    "        # Переберем все коэффициенты\n",
    "        for array, i in (zip(self.income_data.corr()\n",
    "                             .values,range(0,len(self.income_data.corr())))):\n",
    "                pre_corr = []\n",
    "                for ind in range(len(array)):\n",
    "                    if ind != i:\n",
    "                        # Найдем наблюдаемое значение\n",
    "                        t_nabl = (array[ind]*(n-2)**0.5)/(1-array[ind]**2)**0.5\n",
    "                        # Сравним наблюдаемое значение с критическим \n",
    "                        if st.t.ppf(1-0.05/2, n-2) < abs(t_nabl):\n",
    "                            pre_corr.append(0)\n",
    "                        else:\n",
    "                            pre_corr.append(1)\n",
    "                    else:\n",
    "                        pre_corr.append(1)\n",
    "                self.corr_mask.append(pre_corr)\n"
   ]
  },
  {
   "cell_type": "markdown",
   "metadata": {
    "slideshow": {
     "slide_type": "subslide"
    }
   },
   "source": [
    "## Трансформировать матрицу ковариации согласно результатам проверки гипотезы"
   ]
  },
  {
   "cell_type": "code",
   "execution_count": 26,
   "metadata": {
    "slideshow": {
     "slide_type": "subslide"
    }
   },
   "outputs": [],
   "source": [
    "def __format_cov_matrix(self):\n",
    "        \"\"\"\n",
    "        Метод, обрабатывающий матрицу ковариации, согласно найденной маске корреляции \n",
    "        \"\"\"\n",
    "        self.total_cov = []\n",
    "        for array_corr,array_cov in zip(self.corr_mask,\n",
    "                                        self.income_data.cov().values):\n",
    "            pre_cov = []\n",
    "            for i in range(len(array_corr)):\n",
    "                if array_corr[i] == 1:\n",
    "                    pre_cov.append(array_cov[i])\n",
    "                else:\n",
    "                    pre_cov.append(0)\n",
    "            self.total_cov.append(pre_cov)\n"
   ]
  },
  {
   "cell_type": "markdown",
   "metadata": {
    "slideshow": {
     "slide_type": "subslide"
    }
   },
   "source": [
    "## Решить задачу Тобина и получить оптимальный портфель"
   ]
  },
  {
   "cell_type": "code",
   "execution_count": 27,
   "metadata": {
    "slideshow": {
     "slide_type": "subslide"
    }
   },
   "outputs": [],
   "source": [
    "\n",
    "def __solve_Tobin(self):\n",
    "        \"\"\"\n",
    "        Метод, решающий задачу Тобина\n",
    "        \"\"\"\n",
    "        # Получаем обратную матрицу ковариаций \n",
    "        V_reverse = np.linalg.inv(self.total_cov)\n",
    "        # Получаем вектор доходностей активов\n",
    "        incomes_vector = self.income_data.describe().loc[\"mean\",:].values\n",
    "        # Преобразуем вектор доходностей с учетом безрискового актива\n",
    "        ready_vector = incomes_vector - self.unrisk_income*np.ones(len(incomes_vector))\n",
    "        # Решаем уравнение Тобина\n",
    "        D = (ready_vector.T@V_reverse)@ready_vector\n",
    "        self.portfolio_frac = (((self.portfolio_income-self.unrisk_income)/D)\n",
    "                               .reshape(1,)*V_reverse@ready_vector)\n",
    "        portfolio = {label[len(self.add_income_text):]:round(frac,4)\n",
    "                     for label,frac in zip(self.income_data.columns,\n",
    "                                           self.portfolio_frac)}\n",
    "        portfolio[\"unrisk\"] = round(1- sum(portfolio.values()),4)\n",
    "        self.value_portfolio = {key:item*self.start_cash \n",
    "                                for key,item in portfolio.items()}\n",
    "        print(\"В долях\")\n",
    "        print(portfolio,end = \"\\n\\n\")  \n",
    "        print(\"В рублях из \",sum(self.value_portfolio.values()))\n",
    "        print(self.value_portfolio,end = \"\\n\\n\")\n",
    "        return(portfolio)\n"
   ]
  }
 ],
 "metadata": {
  "celltoolbar": "Slideshow",
  "kernelspec": {
   "display_name": "Python 3",
   "language": "python",
   "name": "python3"
  },
  "language_info": {
   "codemirror_mode": {
    "name": "ipython",
    "version": 3
   },
   "file_extension": ".py",
   "mimetype": "text/x-python",
   "name": "python",
   "nbconvert_exporter": "python",
   "pygments_lexer": "ipython3",
   "version": "3.8.3"
  },
  "rise": {
   "enable_chalkboard": true,
   "height": "98%",
   "width": "90%"
  },
  "toc": {
   "base_numbering": 1,
   "nav_menu": {},
   "number_sections": true,
   "sideBar": false,
   "skip_h1_title": false,
   "title_cell": "Содержание",
   "title_sidebar": "Contents",
   "toc_cell": true,
   "toc_position": {
    "height": "47px",
    "left": "2216px",
    "top": "63px",
    "width": "159.359375px"
   },
   "toc_section_display": false,
   "toc_window_display": true
  }
 },
 "nbformat": 4,
 "nbformat_minor": 4
}
